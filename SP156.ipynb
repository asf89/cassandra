{
 "cells": [
  {
   "cell_type": "markdown",
   "metadata": {
    "cell_id": "c70885f9-a2c1-4f09-9a41-b2a41f2cc5de",
    "tags": []
   },
   "source": [
    "# CESAR SCHOOL 2018.1/5: EQUIPE B (COI)"
   ]
  },
  {
   "cell_type": "code",
   "execution_count": null,
   "metadata": {},
   "outputs": [],
   "source": [
    "import pip\n",
    "\n",
    "pip.main(['install', 'xgboost'])"
   ]
  },
  {
   "cell_type": "markdown",
   "metadata": {
    "cell_id": "2c982e92-7d38-4c1d-a4ca-5cbe475f9655",
    "tags": []
   },
   "source": [
    "## Aquisição dos Dados"
   ]
  },
  {
   "cell_type": "markdown",
   "metadata": {
    "cell_id": "c28c03e8-3911-4d32-9c40-4878f574aa50",
    "tags": []
   },
   "source": [
    "**TODO**: \n",
    "- explicar a fonte e escolha da base de dados e adicionar o glossário (está no pdf)\n",
    "- explicar que tivemos q alterar a base por conta das notações brasileiras vs americanas (\".\" por \",\" e vice versa), assim como editar o csv porque \",\" impedia q o arquivo fosse separado por virgulas e usaram \";\"\n",
    "- \",\" -> \"!\"; \".\" -> \"\"; \",\" -> \".\"; \";\" -> \",\""
   ]
  },
  {
   "cell_type": "markdown",
   "metadata": {
    "cell_id": "07179069-d22f-4e5e-abfe-9817a174f165",
    "tags": []
   },
   "source": [
    "## Carregamento da Base de Dados"
   ]
  },
  {
   "cell_type": "code",
   "execution_count": 1,
   "metadata": {
    "cell_id": "305027bc-6178-46b2-81a6-29fca40a11a3"
   },
   "outputs": [],
   "source": [
    "import pandas as pd\n",
    "import numpy as np\n",
    "import matplotlib.pyplot as plt\n",
    "%matplotlib inline\n",
    "import seaborn as sns "
   ]
  },
  {
   "cell_type": "code",
   "execution_count": 2,
   "metadata": {
    "cell_id": "6bbe5bad-9a7f-4da2-9da1-480a97734214",
    "tags": []
   },
   "outputs": [],
   "source": [
    "data = [\n",
    "    'data/SP156/dados-gerais-ligacoes-sp156-2o-sem-2019.csv',\n",
    "    'data/SP156/dados-gerais-ligacoes-sp156-1o-sem-2019.csv',\n",
    "    'data/SP156/dados-gerais-ligacoes-sp156-1o-sem-2020.csv',\n",
    "]\n",
    "\n",
    "df = pd.concat(map(lambda file: pd.read_csv(file), data))"
   ]
  },
  {
   "cell_type": "markdown",
   "metadata": {
    "cell_id": "8a3b987b-a45c-4872-aa4e-15b3f7b2526a",
    "tags": []
   },
   "source": [
    "## Exploração dos Dados"
   ]
  },
  {
   "cell_type": "code",
   "execution_count": 3,
   "metadata": {
    "cell_id": "039b3e03-659c-496f-9604-b8d09d81c680",
    "tags": []
   },
   "outputs": [
    {
     "data": {
      "text/html": [
       "<div>\n",
       "<style scoped>\n",
       "    .dataframe tbody tr th:only-of-type {\n",
       "        vertical-align: middle;\n",
       "    }\n",
       "\n",
       "    .dataframe tbody tr th {\n",
       "        vertical-align: top;\n",
       "    }\n",
       "\n",
       "    .dataframe thead th {\n",
       "        text-align: right;\n",
       "    }\n",
       "</style>\n",
       "<table border=\"1\" class=\"dataframe\">\n",
       "  <thead>\n",
       "    <tr style=\"text-align: right;\">\n",
       "      <th></th>\n",
       "      <th>Data</th>\n",
       "      <th>Quantidade de ligacoes entrantes</th>\n",
       "      <th>Quantidade de ligacoes atendidas</th>\n",
       "      <th>Quantidade de ligacoes abandonadas</th>\n",
       "      <th>Tempo Medio de Atendimento</th>\n",
       "      <th>Tempo Medio de Espera</th>\n",
       "      <th>Quantidade de ligacoes atendidas em ate 15 segundos</th>\n",
       "      <th>Quantidade de ligacoes atendidas apos 15 segundos</th>\n",
       "      <th>Nivel de servico -  ate 15 segundos (%)</th>\n",
       "      <th>indice de ligacoes abandonadas em ate 15 segundos (%)</th>\n",
       "    </tr>\n",
       "  </thead>\n",
       "  <tbody>\n",
       "    <tr>\n",
       "      <th>0</th>\n",
       "      <td>01/07/2019</td>\n",
       "      <td>25559</td>\n",
       "      <td>22463</td>\n",
       "      <td>3089</td>\n",
       "      <td>00:04:00</td>\n",
       "      <td>00:00:29</td>\n",
       "      <td>17768</td>\n",
       "      <td>4695</td>\n",
       "      <td>79.10</td>\n",
       "      <td>3.06</td>\n",
       "    </tr>\n",
       "    <tr>\n",
       "      <th>1</th>\n",
       "      <td>02/07/2019</td>\n",
       "      <td>25843</td>\n",
       "      <td>21447</td>\n",
       "      <td>3928</td>\n",
       "      <td>00:04:09</td>\n",
       "      <td>00:00:53</td>\n",
       "      <td>14190</td>\n",
       "      <td>7257</td>\n",
       "      <td>66.16</td>\n",
       "      <td>5.19</td>\n",
       "    </tr>\n",
       "    <tr>\n",
       "      <th>2</th>\n",
       "      <td>03/07/2019</td>\n",
       "      <td>22672</td>\n",
       "      <td>21375</td>\n",
       "      <td>1217</td>\n",
       "      <td>00:04:04</td>\n",
       "      <td>00:00:08</td>\n",
       "      <td>19695</td>\n",
       "      <td>1680</td>\n",
       "      <td>92.14</td>\n",
       "      <td>0.73</td>\n",
       "    </tr>\n",
       "    <tr>\n",
       "      <th>3</th>\n",
       "      <td>04/07/2019</td>\n",
       "      <td>19570</td>\n",
       "      <td>19232</td>\n",
       "      <td>252</td>\n",
       "      <td>00:03:57</td>\n",
       "      <td>00:00:01</td>\n",
       "      <td>18949</td>\n",
       "      <td>283</td>\n",
       "      <td>98.53</td>\n",
       "      <td>0.07</td>\n",
       "    </tr>\n",
       "    <tr>\n",
       "      <th>4</th>\n",
       "      <td>05/07/2019</td>\n",
       "      <td>22086</td>\n",
       "      <td>20809</td>\n",
       "      <td>298</td>\n",
       "      <td>00:03:47</td>\n",
       "      <td>00:00:02</td>\n",
       "      <td>20421</td>\n",
       "      <td>388</td>\n",
       "      <td>98.14</td>\n",
       "      <td>0.16</td>\n",
       "    </tr>\n",
       "    <tr>\n",
       "      <th>...</th>\n",
       "      <td>...</td>\n",
       "      <td>...</td>\n",
       "      <td>...</td>\n",
       "      <td>...</td>\n",
       "      <td>...</td>\n",
       "      <td>...</td>\n",
       "      <td>...</td>\n",
       "      <td>...</td>\n",
       "      <td>...</td>\n",
       "      <td>...</td>\n",
       "    </tr>\n",
       "    <tr>\n",
       "      <th>86</th>\n",
       "      <td>27/03/2020</td>\n",
       "      <td>24659</td>\n",
       "      <td>23923</td>\n",
       "      <td>659</td>\n",
       "      <td>00:03:39</td>\n",
       "      <td>00:00:03</td>\n",
       "      <td>23699</td>\n",
       "      <td>224</td>\n",
       "      <td>99.06</td>\n",
       "      <td>1.03</td>\n",
       "    </tr>\n",
       "    <tr>\n",
       "      <th>87</th>\n",
       "      <td>28/03/2020</td>\n",
       "      <td>9605</td>\n",
       "      <td>9414</td>\n",
       "      <td>191</td>\n",
       "      <td>00:03:35</td>\n",
       "      <td>00:00:02</td>\n",
       "      <td>9260</td>\n",
       "      <td>154</td>\n",
       "      <td>98.36</td>\n",
       "      <td>0.69</td>\n",
       "    </tr>\n",
       "    <tr>\n",
       "      <th>88</th>\n",
       "      <td>29/03/2020</td>\n",
       "      <td>6000</td>\n",
       "      <td>5913</td>\n",
       "      <td>87</td>\n",
       "      <td>00:03:24</td>\n",
       "      <td>00:00:02</td>\n",
       "      <td>5824</td>\n",
       "      <td>89</td>\n",
       "      <td>98.49</td>\n",
       "      <td>0.48</td>\n",
       "    </tr>\n",
       "    <tr>\n",
       "      <th>89</th>\n",
       "      <td>30/03/2020</td>\n",
       "      <td>32227</td>\n",
       "      <td>31790</td>\n",
       "      <td>432</td>\n",
       "      <td>00:03:05</td>\n",
       "      <td>00:00:01</td>\n",
       "      <td>31592</td>\n",
       "      <td>198</td>\n",
       "      <td>99.38</td>\n",
       "      <td>0.17</td>\n",
       "    </tr>\n",
       "    <tr>\n",
       "      <th>90</th>\n",
       "      <td>31/03/2020</td>\n",
       "      <td>30856</td>\n",
       "      <td>28764</td>\n",
       "      <td>1859</td>\n",
       "      <td>00:03:49</td>\n",
       "      <td>00:00:03</td>\n",
       "      <td>28307</td>\n",
       "      <td>457</td>\n",
       "      <td>98.41</td>\n",
       "      <td>1.18</td>\n",
       "    </tr>\n",
       "  </tbody>\n",
       "</table>\n",
       "<p>456 rows × 10 columns</p>\n",
       "</div>"
      ],
      "text/plain": [
       "          Data  Quantidade de ligacoes entrantes  \\\n",
       "0   01/07/2019                             25559   \n",
       "1   02/07/2019                             25843   \n",
       "2   03/07/2019                             22672   \n",
       "3   04/07/2019                             19570   \n",
       "4   05/07/2019                             22086   \n",
       "..         ...                               ...   \n",
       "86  27/03/2020                             24659   \n",
       "87  28/03/2020                              9605   \n",
       "88  29/03/2020                              6000   \n",
       "89  30/03/2020                             32227   \n",
       "90  31/03/2020                             30856   \n",
       "\n",
       "    Quantidade de ligacoes atendidas  Quantidade de ligacoes abandonadas  \\\n",
       "0                              22463                                3089   \n",
       "1                              21447                                3928   \n",
       "2                              21375                                1217   \n",
       "3                              19232                                 252   \n",
       "4                              20809                                 298   \n",
       "..                               ...                                 ...   \n",
       "86                             23923                                 659   \n",
       "87                              9414                                 191   \n",
       "88                              5913                                  87   \n",
       "89                             31790                                 432   \n",
       "90                             28764                                1859   \n",
       "\n",
       "   Tempo Medio de Atendimento Tempo Medio de Espera  \\\n",
       "0                    00:04:00              00:00:29   \n",
       "1                    00:04:09              00:00:53   \n",
       "2                    00:04:04              00:00:08   \n",
       "3                    00:03:57              00:00:01   \n",
       "4                    00:03:47              00:00:02   \n",
       "..                        ...                   ...   \n",
       "86                   00:03:39              00:00:03   \n",
       "87                   00:03:35              00:00:02   \n",
       "88                   00:03:24              00:00:02   \n",
       "89                   00:03:05              00:00:01   \n",
       "90                   00:03:49              00:00:03   \n",
       "\n",
       "    Quantidade de ligacoes atendidas em ate 15 segundos  \\\n",
       "0                                               17768     \n",
       "1                                               14190     \n",
       "2                                               19695     \n",
       "3                                               18949     \n",
       "4                                               20421     \n",
       "..                                                ...     \n",
       "86                                              23699     \n",
       "87                                               9260     \n",
       "88                                               5824     \n",
       "89                                              31592     \n",
       "90                                              28307     \n",
       "\n",
       "    Quantidade de ligacoes atendidas apos 15 segundos  \\\n",
       "0                                                4695   \n",
       "1                                                7257   \n",
       "2                                                1680   \n",
       "3                                                 283   \n",
       "4                                                 388   \n",
       "..                                                ...   \n",
       "86                                                224   \n",
       "87                                                154   \n",
       "88                                                 89   \n",
       "89                                                198   \n",
       "90                                                457   \n",
       "\n",
       "    Nivel de servico -  ate 15 segundos (%)  \\\n",
       "0                                     79.10   \n",
       "1                                     66.16   \n",
       "2                                     92.14   \n",
       "3                                     98.53   \n",
       "4                                     98.14   \n",
       "..                                      ...   \n",
       "86                                    99.06   \n",
       "87                                    98.36   \n",
       "88                                    98.49   \n",
       "89                                    99.38   \n",
       "90                                    98.41   \n",
       "\n",
       "    indice de ligacoes abandonadas em ate 15 segundos (%)  \n",
       "0                                                3.06      \n",
       "1                                                5.19      \n",
       "2                                                0.73      \n",
       "3                                                0.07      \n",
       "4                                                0.16      \n",
       "..                                                ...      \n",
       "86                                               1.03      \n",
       "87                                               0.69      \n",
       "88                                               0.48      \n",
       "89                                               0.17      \n",
       "90                                               1.18      \n",
       "\n",
       "[456 rows x 10 columns]"
      ]
     },
     "execution_count": 3,
     "metadata": {},
     "output_type": "execute_result"
    }
   ],
   "source": [
    "df"
   ]
  },
  {
   "cell_type": "code",
   "execution_count": 4,
   "metadata": {
    "cell_id": "6cf7a7f4-f76a-465a-a216-ff71e0dcbd3d",
    "tags": []
   },
   "outputs": [
    {
     "name": "stdout",
     "output_type": "stream",
     "text": [
      "<class 'pandas.core.frame.DataFrame'>\n",
      "Int64Index: 456 entries, 0 to 90\n",
      "Data columns (total 10 columns):\n",
      " #   Column                                                 Non-Null Count  Dtype  \n",
      "---  ------                                                 --------------  -----  \n",
      " 0   Data                                                   456 non-null    object \n",
      " 1   Quantidade de ligacoes entrantes                       456 non-null    int64  \n",
      " 2   Quantidade de ligacoes atendidas                       456 non-null    int64  \n",
      " 3   Quantidade de ligacoes abandonadas                     456 non-null    int64  \n",
      " 4   Tempo Medio de Atendimento                             456 non-null    object \n",
      " 5   Tempo Medio de Espera                                  456 non-null    object \n",
      " 6   Quantidade de ligacoes atendidas em ate 15 segundos    456 non-null    int64  \n",
      " 7   Quantidade de ligacoes atendidas apos 15 segundos      456 non-null    int64  \n",
      " 8   Nivel de servico -  ate 15 segundos (%)                456 non-null    float64\n",
      " 9   indice de ligacoes abandonadas em ate 15 segundos (%)  456 non-null    float64\n",
      "dtypes: float64(2), int64(5), object(3)\n",
      "memory usage: 39.2+ KB\n"
     ]
    }
   ],
   "source": [
    "df.info()"
   ]
  },
  {
   "cell_type": "code",
   "execution_count": 5,
   "metadata": {
    "cell_id": "8c6ce52b-6c20-4531-9576-27731dbb464c",
    "tags": []
   },
   "outputs": [
    {
     "data": {
      "text/html": [
       "<div>\n",
       "<style scoped>\n",
       "    .dataframe tbody tr th:only-of-type {\n",
       "        vertical-align: middle;\n",
       "    }\n",
       "\n",
       "    .dataframe tbody tr th {\n",
       "        vertical-align: top;\n",
       "    }\n",
       "\n",
       "    .dataframe thead th {\n",
       "        text-align: right;\n",
       "    }\n",
       "</style>\n",
       "<table border=\"1\" class=\"dataframe\">\n",
       "  <thead>\n",
       "    <tr style=\"text-align: right;\">\n",
       "      <th></th>\n",
       "      <th>Data</th>\n",
       "      <th>Quantidade de ligacoes entrantes</th>\n",
       "      <th>Quantidade de ligacoes atendidas</th>\n",
       "      <th>Quantidade de ligacoes abandonadas</th>\n",
       "      <th>Tempo Medio de Atendimento</th>\n",
       "      <th>Tempo Medio de Espera</th>\n",
       "      <th>Quantidade de ligacoes atendidas em ate 15 segundos</th>\n",
       "      <th>Quantidade de ligacoes atendidas apos 15 segundos</th>\n",
       "      <th>Nivel de servico -  ate 15 segundos (%)</th>\n",
       "      <th>indice de ligacoes abandonadas em ate 15 segundos (%)</th>\n",
       "    </tr>\n",
       "  </thead>\n",
       "  <tbody>\n",
       "    <tr>\n",
       "      <th>0</th>\n",
       "      <td>01/07/2019</td>\n",
       "      <td>25559</td>\n",
       "      <td>22463</td>\n",
       "      <td>3089</td>\n",
       "      <td>00:04:00</td>\n",
       "      <td>00:00:29</td>\n",
       "      <td>17768</td>\n",
       "      <td>4695</td>\n",
       "      <td>79.10</td>\n",
       "      <td>3.06</td>\n",
       "    </tr>\n",
       "    <tr>\n",
       "      <th>1</th>\n",
       "      <td>02/07/2019</td>\n",
       "      <td>25843</td>\n",
       "      <td>21447</td>\n",
       "      <td>3928</td>\n",
       "      <td>00:04:09</td>\n",
       "      <td>00:00:53</td>\n",
       "      <td>14190</td>\n",
       "      <td>7257</td>\n",
       "      <td>66.16</td>\n",
       "      <td>5.19</td>\n",
       "    </tr>\n",
       "    <tr>\n",
       "      <th>2</th>\n",
       "      <td>03/07/2019</td>\n",
       "      <td>22672</td>\n",
       "      <td>21375</td>\n",
       "      <td>1217</td>\n",
       "      <td>00:04:04</td>\n",
       "      <td>00:00:08</td>\n",
       "      <td>19695</td>\n",
       "      <td>1680</td>\n",
       "      <td>92.14</td>\n",
       "      <td>0.73</td>\n",
       "    </tr>\n",
       "    <tr>\n",
       "      <th>3</th>\n",
       "      <td>04/07/2019</td>\n",
       "      <td>19570</td>\n",
       "      <td>19232</td>\n",
       "      <td>252</td>\n",
       "      <td>00:03:57</td>\n",
       "      <td>00:00:01</td>\n",
       "      <td>18949</td>\n",
       "      <td>283</td>\n",
       "      <td>98.53</td>\n",
       "      <td>0.07</td>\n",
       "    </tr>\n",
       "    <tr>\n",
       "      <th>4</th>\n",
       "      <td>05/07/2019</td>\n",
       "      <td>22086</td>\n",
       "      <td>20809</td>\n",
       "      <td>298</td>\n",
       "      <td>00:03:47</td>\n",
       "      <td>00:00:02</td>\n",
       "      <td>20421</td>\n",
       "      <td>388</td>\n",
       "      <td>98.14</td>\n",
       "      <td>0.16</td>\n",
       "    </tr>\n",
       "  </tbody>\n",
       "</table>\n",
       "</div>"
      ],
      "text/plain": [
       "         Data  Quantidade de ligacoes entrantes  \\\n",
       "0  01/07/2019                             25559   \n",
       "1  02/07/2019                             25843   \n",
       "2  03/07/2019                             22672   \n",
       "3  04/07/2019                             19570   \n",
       "4  05/07/2019                             22086   \n",
       "\n",
       "   Quantidade de ligacoes atendidas  Quantidade de ligacoes abandonadas  \\\n",
       "0                             22463                                3089   \n",
       "1                             21447                                3928   \n",
       "2                             21375                                1217   \n",
       "3                             19232                                 252   \n",
       "4                             20809                                 298   \n",
       "\n",
       "  Tempo Medio de Atendimento Tempo Medio de Espera  \\\n",
       "0                   00:04:00              00:00:29   \n",
       "1                   00:04:09              00:00:53   \n",
       "2                   00:04:04              00:00:08   \n",
       "3                   00:03:57              00:00:01   \n",
       "4                   00:03:47              00:00:02   \n",
       "\n",
       "   Quantidade de ligacoes atendidas em ate 15 segundos  \\\n",
       "0                                              17768     \n",
       "1                                              14190     \n",
       "2                                              19695     \n",
       "3                                              18949     \n",
       "4                                              20421     \n",
       "\n",
       "   Quantidade de ligacoes atendidas apos 15 segundos  \\\n",
       "0                                               4695   \n",
       "1                                               7257   \n",
       "2                                               1680   \n",
       "3                                                283   \n",
       "4                                                388   \n",
       "\n",
       "   Nivel de servico -  ate 15 segundos (%)  \\\n",
       "0                                    79.10   \n",
       "1                                    66.16   \n",
       "2                                    92.14   \n",
       "3                                    98.53   \n",
       "4                                    98.14   \n",
       "\n",
       "   indice de ligacoes abandonadas em ate 15 segundos (%)  \n",
       "0                                               3.06      \n",
       "1                                               5.19      \n",
       "2                                               0.73      \n",
       "3                                               0.07      \n",
       "4                                               0.16      "
      ]
     },
     "execution_count": 5,
     "metadata": {},
     "output_type": "execute_result"
    }
   ],
   "source": [
    "df.head()"
   ]
  },
  {
   "cell_type": "code",
   "execution_count": 6,
   "metadata": {
    "cell_id": "646b3862-4970-4a20-8bc2-0a277b7dc8b5",
    "tags": []
   },
   "outputs": [
    {
     "data": {
      "text/html": [
       "<div>\n",
       "<style scoped>\n",
       "    .dataframe tbody tr th:only-of-type {\n",
       "        vertical-align: middle;\n",
       "    }\n",
       "\n",
       "    .dataframe tbody tr th {\n",
       "        vertical-align: top;\n",
       "    }\n",
       "\n",
       "    .dataframe thead th {\n",
       "        text-align: right;\n",
       "    }\n",
       "</style>\n",
       "<table border=\"1\" class=\"dataframe\">\n",
       "  <thead>\n",
       "    <tr style=\"text-align: right;\">\n",
       "      <th></th>\n",
       "      <th>Quantidade de ligacoes entrantes</th>\n",
       "      <th>Quantidade de ligacoes atendidas</th>\n",
       "      <th>Quantidade de ligacoes abandonadas</th>\n",
       "      <th>Quantidade de ligacoes atendidas em ate 15 segundos</th>\n",
       "      <th>Quantidade de ligacoes atendidas apos 15 segundos</th>\n",
       "      <th>Nivel de servico -  ate 15 segundos (%)</th>\n",
       "      <th>indice de ligacoes abandonadas em ate 15 segundos (%)</th>\n",
       "    </tr>\n",
       "  </thead>\n",
       "  <tbody>\n",
       "    <tr>\n",
       "      <th>count</th>\n",
       "      <td>456.000000</td>\n",
       "      <td>456.000000</td>\n",
       "      <td>456.000000</td>\n",
       "      <td>456.000000</td>\n",
       "      <td>456.000000</td>\n",
       "      <td>456.000000</td>\n",
       "      <td>456.000000</td>\n",
       "    </tr>\n",
       "    <tr>\n",
       "      <th>mean</th>\n",
       "      <td>21133.276316</td>\n",
       "      <td>17909.712719</td>\n",
       "      <td>1563.697368</td>\n",
       "      <td>15933.486842</td>\n",
       "      <td>1976.225877</td>\n",
       "      <td>90.449232</td>\n",
       "      <td>3.034627</td>\n",
       "    </tr>\n",
       "    <tr>\n",
       "      <th>std</th>\n",
       "      <td>11031.618824</td>\n",
       "      <td>8357.443339</td>\n",
       "      <td>2109.176258</td>\n",
       "      <td>7343.746413</td>\n",
       "      <td>2430.039146</td>\n",
       "      <td>9.338576</td>\n",
       "      <td>3.424323</td>\n",
       "    </tr>\n",
       "    <tr>\n",
       "      <th>min</th>\n",
       "      <td>3635.000000</td>\n",
       "      <td>2721.000000</td>\n",
       "      <td>6.000000</td>\n",
       "      <td>2153.000000</td>\n",
       "      <td>1.000000</td>\n",
       "      <td>49.830000</td>\n",
       "      <td>0.000000</td>\n",
       "    </tr>\n",
       "    <tr>\n",
       "      <th>25%</th>\n",
       "      <td>8377.250000</td>\n",
       "      <td>7957.500000</td>\n",
       "      <td>239.500000</td>\n",
       "      <td>7763.750000</td>\n",
       "      <td>319.750000</td>\n",
       "      <td>86.890000</td>\n",
       "      <td>0.970000</td>\n",
       "    </tr>\n",
       "    <tr>\n",
       "      <th>50%</th>\n",
       "      <td>23808.000000</td>\n",
       "      <td>20804.500000</td>\n",
       "      <td>801.000000</td>\n",
       "      <td>17887.000000</td>\n",
       "      <td>1040.500000</td>\n",
       "      <td>93.300000</td>\n",
       "      <td>1.870000</td>\n",
       "    </tr>\n",
       "    <tr>\n",
       "      <th>75%</th>\n",
       "      <td>28938.000000</td>\n",
       "      <td>24188.250000</td>\n",
       "      <td>2161.000000</td>\n",
       "      <td>21610.500000</td>\n",
       "      <td>2619.000000</td>\n",
       "      <td>97.317500</td>\n",
       "      <td>3.830000</td>\n",
       "    </tr>\n",
       "    <tr>\n",
       "      <th>max</th>\n",
       "      <td>54436.000000</td>\n",
       "      <td>34481.000000</td>\n",
       "      <td>19916.000000</td>\n",
       "      <td>32047.000000</td>\n",
       "      <td>14124.000000</td>\n",
       "      <td>99.990000</td>\n",
       "      <td>30.140000</td>\n",
       "    </tr>\n",
       "  </tbody>\n",
       "</table>\n",
       "</div>"
      ],
      "text/plain": [
       "       Quantidade de ligacoes entrantes  Quantidade de ligacoes atendidas  \\\n",
       "count                        456.000000                        456.000000   \n",
       "mean                       21133.276316                      17909.712719   \n",
       "std                        11031.618824                       8357.443339   \n",
       "min                         3635.000000                       2721.000000   \n",
       "25%                         8377.250000                       7957.500000   \n",
       "50%                        23808.000000                      20804.500000   \n",
       "75%                        28938.000000                      24188.250000   \n",
       "max                        54436.000000                      34481.000000   \n",
       "\n",
       "       Quantidade de ligacoes abandonadas  \\\n",
       "count                          456.000000   \n",
       "mean                          1563.697368   \n",
       "std                           2109.176258   \n",
       "min                              6.000000   \n",
       "25%                            239.500000   \n",
       "50%                            801.000000   \n",
       "75%                           2161.000000   \n",
       "max                          19916.000000   \n",
       "\n",
       "       Quantidade de ligacoes atendidas em ate 15 segundos  \\\n",
       "count                                         456.000000     \n",
       "mean                                        15933.486842     \n",
       "std                                          7343.746413     \n",
       "min                                          2153.000000     \n",
       "25%                                          7763.750000     \n",
       "50%                                         17887.000000     \n",
       "75%                                         21610.500000     \n",
       "max                                         32047.000000     \n",
       "\n",
       "       Quantidade de ligacoes atendidas apos 15 segundos  \\\n",
       "count                                         456.000000   \n",
       "mean                                         1976.225877   \n",
       "std                                          2430.039146   \n",
       "min                                             1.000000   \n",
       "25%                                           319.750000   \n",
       "50%                                          1040.500000   \n",
       "75%                                          2619.000000   \n",
       "max                                         14124.000000   \n",
       "\n",
       "       Nivel de servico -  ate 15 segundos (%)  \\\n",
       "count                               456.000000   \n",
       "mean                                 90.449232   \n",
       "std                                   9.338576   \n",
       "min                                  49.830000   \n",
       "25%                                  86.890000   \n",
       "50%                                  93.300000   \n",
       "75%                                  97.317500   \n",
       "max                                  99.990000   \n",
       "\n",
       "       indice de ligacoes abandonadas em ate 15 segundos (%)  \n",
       "count                                         456.000000      \n",
       "mean                                            3.034627      \n",
       "std                                             3.424323      \n",
       "min                                             0.000000      \n",
       "25%                                             0.970000      \n",
       "50%                                             1.870000      \n",
       "75%                                             3.830000      \n",
       "max                                            30.140000      "
      ]
     },
     "execution_count": 6,
     "metadata": {},
     "output_type": "execute_result"
    }
   ],
   "source": [
    "df.describe()"
   ]
  },
  {
   "cell_type": "markdown",
   "metadata": {
    "cell_id": "040e8e10-02ec-46bc-9ab0-85083c443b6c",
    "tags": []
   },
   "source": [
    "## Tratamento dos Dados"
   ]
  },
  {
   "cell_type": "markdown",
   "metadata": {
    "cell_id": "374084fa-b6f9-4d78-8003-cd210bf24722",
    "tags": []
   },
   "source": [
    "**Converter campos de data (tipo objeto) em segundos (tipo int)**"
   ]
  },
  {
   "cell_type": "code",
   "execution_count": 7,
   "metadata": {
    "cell_id": "55dc8704-364f-4610-8e49-1be9b62facf0",
    "tags": []
   },
   "outputs": [
    {
     "name": "stdout",
     "output_type": "stream",
     "text": [
      "<class 'pandas.core.frame.DataFrame'>\n",
      "RangeIndex: 456 entries, 0 to 455\n",
      "Data columns (total 10 columns):\n",
      " #   Column                                                 Non-Null Count  Dtype  \n",
      "---  ------                                                 --------------  -----  \n",
      " 0   Data                                                   456 non-null    object \n",
      " 1   Quantidade de ligacoes entrantes                       456 non-null    int64  \n",
      " 2   Quantidade de ligacoes atendidas                       456 non-null    int64  \n",
      " 3   Quantidade de ligacoes abandonadas                     456 non-null    int64  \n",
      " 4   Tempo Medio de Atendimento                             456 non-null    int64  \n",
      " 5   Tempo Medio de Espera                                  456 non-null    int64  \n",
      " 6   Quantidade de ligacoes atendidas em ate 15 segundos    456 non-null    int64  \n",
      " 7   Quantidade de ligacoes atendidas apos 15 segundos      456 non-null    int64  \n",
      " 8   Nivel de servico -  ate 15 segundos (%)                456 non-null    float64\n",
      " 9   indice de ligacoes abandonadas em ate 15 segundos (%)  456 non-null    float64\n",
      "dtypes: float64(2), int64(7), object(1)\n",
      "memory usage: 35.8+ KB\n"
     ]
    }
   ],
   "source": [
    "df_1 = pd.read_csv('data/SP156/dados-gerais-ligacoes-sp156-segundos.csv')\n",
    "df_1.info()"
   ]
  },
  {
   "cell_type": "markdown",
   "metadata": {
    "cell_id": "73bc8c86-381a-4ba4-bcb4-f08a7d119898",
    "tags": []
   },
   "source": [
    "**Dropamos _'Data'_ por não ter relevância no nosso contexto.**"
   ]
  },
  {
   "cell_type": "code",
   "execution_count": 8,
   "metadata": {
    "cell_id": "a00e90d3-3f3f-42fa-aac6-f21572240282",
    "tags": []
   },
   "outputs": [
    {
     "name": "stdout",
     "output_type": "stream",
     "text": [
      "<class 'pandas.core.frame.DataFrame'>\n",
      "RangeIndex: 456 entries, 0 to 455\n",
      "Data columns (total 9 columns):\n",
      " #   Column                                                 Non-Null Count  Dtype  \n",
      "---  ------                                                 --------------  -----  \n",
      " 0   Quantidade de ligacoes entrantes                       456 non-null    int64  \n",
      " 1   Quantidade de ligacoes atendidas                       456 non-null    int64  \n",
      " 2   Quantidade de ligacoes abandonadas                     456 non-null    int64  \n",
      " 3   Tempo Medio de Atendimento                             456 non-null    int64  \n",
      " 4   Tempo Medio de Espera                                  456 non-null    int64  \n",
      " 5   Quantidade de ligacoes atendidas em ate 15 segundos    456 non-null    int64  \n",
      " 6   Quantidade de ligacoes atendidas apos 15 segundos      456 non-null    int64  \n",
      " 7   Nivel de servico -  ate 15 segundos (%)                456 non-null    float64\n",
      " 8   indice de ligacoes abandonadas em ate 15 segundos (%)  456 non-null    float64\n",
      "dtypes: float64(2), int64(7)\n",
      "memory usage: 32.2 KB\n"
     ]
    }
   ],
   "source": [
    "df_2 = df_1\n",
    "df_2 = df_2.drop(['Data'], axis=1)\n",
    "df_2.info()"
   ]
  },
  {
   "cell_type": "markdown",
   "metadata": {
    "cell_id": "f6bc21de-6c3e-4c52-be54-c26e1a91c643",
    "tags": []
   },
   "source": [
    "## Visualização dos Dados"
   ]
  },
  {
   "cell_type": "code",
   "execution_count": 9,
   "metadata": {
    "cell_id": "5a325fbb-7852-4dc3-8bd5-734b15e7e2a8",
    "tags": []
   },
   "outputs": [
    {
     "data": {
      "text/plain": [
       "<matplotlib.axes._subplots.AxesSubplot at 0x7fd6e2e6d150>"
      ]
     },
     "execution_count": 9,
     "metadata": {},
     "output_type": "execute_result"
    },
    {
     "data": {
      "image/png": "[encoded data removed]",
      "text/plain": [
       "<Figure size 720x720 with 2 Axes>"
      ]
     },
     "metadata": {
      "needs_background": "light"
     },
     "output_type": "display_data"
    }
   ],
   "source": [
    "# correlation matrix\n",
    "plt.figure(figsize=(10,10))\n",
    "sns.heatmap(df_2.corr(),\n",
    "            annot=True,\n",
    "            square=True)"
   ]
  },
  {
   "cell_type": "markdown",
   "metadata": {
    "cell_id": "d44c07cd-891e-4fb8-a881-73c8d0513759",
    "tags": []
   },
   "source": [
    "**Definição das 'features' e 'target'**"
   ]
  },
  {
   "cell_type": "code",
   "execution_count": 10,
   "metadata": {
    "cell_id": "443b97e9-e43f-4e73-98b2-b7336c8cfa07",
    "tags": []
   },
   "outputs": [],
   "source": [
    "target   = 'Quantidade de ligacoes abandonadas'\n",
    "features = df_2.columns"
   ]
  },
  {
   "cell_type": "markdown",
   "metadata": {
    "cell_id": "8a481b06-c290-4659-b30b-95ae38136d0e",
    "tags": []
   },
   "source": [
    "**Divisão da base de dados**"
   ]
  },
  {
   "cell_type": "code",
   "execution_count": 11,
   "metadata": {
    "cell_id": "7cc99e09-ef41-42a7-a837-f138c8c890ae",
    "tags": []
   },
   "outputs": [],
   "source": [
    "from sklearn.model_selection import train_test_split\n",
    "\n",
    "y = df_2.loc[:, features == target]\n",
    "X = df_2.loc[:, features != target]\n",
    "\n",
    "X_train, X_test, y_train, y_test = train_test_split(X, \n",
    "                                                    y, \n",
    "                                                    test_size=0.3, \n",
    "                                                    random_state=42,\n",
    "                                                    shuffle=False)"
   ]
  },
  {
   "cell_type": "markdown",
   "metadata": {},
   "source": [
    "## Aplicação dos Modelos"
   ]
  },
  {
   "cell_type": "code",
   "execution_count": 12,
   "metadata": {},
   "outputs": [],
   "source": [
    "from sklearn.model_selection import train_test_split, TimeSeriesSplit, RandomizedSearchCV, GridSearchCV\n",
    "\n",
    "from sklearn.preprocessing import StandardScaler\n",
    "from sklearn.pipeline import Pipeline\n",
    "\n",
    "from sklearn.ensemble import RandomForestRegressor\n",
    "from sklearn.neighbors import KNeighborsRegressor\n",
    "from xgboost import XGBRegressor, DMatrix\n",
    "\n",
    "import json"
   ]
  },
  {
   "cell_type": "markdown",
   "metadata": {},
   "source": [
    "**Validação cruzada em series temporais**"
   ]
  },
  {
   "cell_type": "code",
   "execution_count": 13,
   "metadata": {},
   "outputs": [],
   "source": [
    "tscv = TimeSeriesSplit(max_train_size=None, n_splits=10)"
   ]
  },
  {
   "cell_type": "markdown",
   "metadata": {},
   "source": [
    "### KNN"
   ]
  },
  {
   "cell_type": "markdown",
   "metadata": {},
   "source": [
    "**Criação do pipeline**"
   ]
  },
  {
   "cell_type": "code",
   "execution_count": 14,
   "metadata": {},
   "outputs": [],
   "source": [
    "knn_pipeline = Pipeline([('scaler', StandardScaler()),\n",
    "                         ('KNN', KNeighborsRegressor())])"
   ]
  },
  {
   "cell_type": "markdown",
   "metadata": {
    "cell_id": "35d691de-a9da-41dc-9d35-f00663c601b1",
    "tags": []
   },
   "source": [
    "**Ajuste de Hiperparâmetro**"
   ]
  },
  {
   "cell_type": "code",
   "execution_count": 42,
   "metadata": {},
   "outputs": [],
   "source": [
    "knn_rscv_hyperparameters = {'KNN__n_neighbors': [1,2,3,4,5,6,7,9,10,12,14,16,18,20,25],\n",
    "                            'KNN__weights': ['uniform', 'distance'],\n",
    "                            'KNN__algorithm': ['auto', 'ball_tree', 'kd_tree', 'brute'],\n",
    "                            'KNN__leaf_size': [20, 30, 40, 60, 100, 150, 200, 400, 800, 1600],\n",
    "                            'KNN__p': [1, 2, 3],\n",
    "                            'KNN__n_jobs': [-1]}\n",
    "\n",
    "knn_rscv = RandomizedSearchCV(knn_pipeline,\n",
    "                              n_iter=100,\n",
    "                              param_distributions=knn_rscv_hyperparameters,\n",
    "                              cv=tscv,\n",
    "                              scoring='neg_root_mean_squared_error',\n",
    "                              n_jobs=-1)"
   ]
  },
  {
   "cell_type": "code",
   "execution_count": 43,
   "metadata": {},
   "outputs": [
    {
     "name": "stdout",
     "output_type": "stream",
     "text": [
      "Best Score:  -901.1047702445545\n",
      "Best Parameters:\n",
      " {\n",
      "  \"KNN__weights\": \"distance\",\n",
      "  \"KNN__p\": 1,\n",
      "  \"KNN__n_neighbors\": 3,\n",
      "  \"KNN__n_jobs\": -1,\n",
      "  \"KNN__leaf_size\": 30,\n",
      "  \"KNN__algorithm\": \"ball_tree\"\n",
      "}\n"
     ]
    }
   ],
   "source": [
    "knn_rscv_result = knn_rscv.fit(X_train, y_train)\n",
    "\n",
    "print(\"Best Score: \", knn_rscv_result.best_score_)\n",
    "print(\"Best Parameters:\\n\", json.dumps(knn_rscv_result.best_params_, indent=2))"
   ]
  },
  {
   "cell_type": "code",
   "execution_count": 46,
   "metadata": {},
   "outputs": [],
   "source": [
    "knn_gscv_hyperparameters = {'KNN__n_neighbors': [1, 3, 5, 7, 10],\n",
    "                            'KNN__weights': ['uniform', 'distance'],\n",
    "                            'KNN__algorithm': ['auto', 'ball_tree', 'kd_tree', 'brute'],\n",
    "                            'KNN__leaf_size': [20, 30, 40],\n",
    "                            'KNN__p': [1, 2, 3],\n",
    "                            'KNN__n_jobs': [-1]}\n",
    "\n",
    "knn_gscv = GridSearchCV(knn_pipeline,\n",
    "                        param_grid=knn_gscv_hyperparameters,\n",
    "                        cv=tscv,\n",
    "                        scoring='neg_root_mean_squared_error',\n",
    "                        n_jobs=-1)"
   ]
  },
  {
   "cell_type": "code",
   "execution_count": 47,
   "metadata": {},
   "outputs": [
    {
     "name": "stdout",
     "output_type": "stream",
     "text": [
      "Best Score:  -901.1047702445543\n",
      "Best Parameters:\n",
      " {\n",
      "  \"KNN__algorithm\": \"brute\",\n",
      "  \"KNN__leaf_size\": 20,\n",
      "  \"KNN__n_jobs\": -1,\n",
      "  \"KNN__n_neighbors\": 3,\n",
      "  \"KNN__p\": 1,\n",
      "  \"KNN__weights\": \"distance\"\n",
      "}\n"
     ]
    }
   ],
   "source": [
    "knn_gscv_result = knn_gscv.fit(X_train, y_train)\n",
    "\n",
    "print(\"Best Score: \", knn_gscv_result.best_score_)\n",
    "print(\"Best Parameters:\\n\", json.dumps(knn_gscv_result.best_params_, indent=2))"
   ]
  },
  {
   "cell_type": "markdown",
   "metadata": {
    "cell_id": "c0d35950-0a79-494c-a64c-f9fa058dd550",
    "tags": []
   },
   "source": [
    "**Aplicação do modelo**"
   ]
  },
  {
   "cell_type": "code",
   "execution_count": 51,
   "metadata": {
    "cell_id": "b7d5fcf9-d648-4eca-a461-25fc97acc71e",
    "tags": []
   },
   "outputs": [
    {
     "data": {
      "text/plain": [
       "array([[1462.71636803],\n",
       "       [ 810.12609465],\n",
       "       [  60.86367753],\n",
       "       [ 106.49418787],\n",
       "       [1241.27253648],\n",
       "       [1885.68310421],\n",
       "       [2405.33920454],\n",
       "       [3657.14864568],\n",
       "       [3064.40231385],\n",
       "       [  45.36043321],\n",
       "       [  64.68114857],\n",
       "       [2966.02682684],\n",
       "       [6144.38513387],\n",
       "       [4538.12534754],\n",
       "       [3690.08657481],\n",
       "       [1840.12497989],\n",
       "       [ 384.7003275 ],\n",
       "       [  95.51824729],\n",
       "       [3677.00340859],\n",
       "       [7491.70451437],\n",
       "       [2251.11375832],\n",
       "       [2005.77113226],\n",
       "       [1608.60433043],\n",
       "       [ 151.63331408],\n",
       "       [  63.78040527],\n",
       "       [2039.22114535],\n",
       "       [3423.89260835],\n",
       "       [1575.93157457],\n",
       "       [2063.41024805],\n",
       "       [ 232.0224923 ],\n",
       "       [  65.81488403],\n",
       "       [  62.40361689],\n",
       "       [2202.35897246],\n",
       "       [2211.79719058],\n",
       "       [1672.05798057],\n",
       "       [  39.96079934],\n",
       "       [ 197.13619843],\n",
       "       [  41.01142994],\n",
       "       [  63.15288835],\n",
       "       [2754.27180366],\n",
       "       [4486.91039611],\n",
       "       [2249.95240341],\n",
       "       [1642.09035376],\n",
       "       [1306.68806595],\n",
       "       [ 199.66978083],\n",
       "       [  86.67162677],\n",
       "       [ 141.38934736],\n",
       "       [2041.09495411],\n",
       "       [2516.50817889],\n",
       "       [  91.57339546],\n",
       "       [ 332.03350468],\n",
       "       [4797.80670136],\n",
       "       [1644.73253445],\n",
       "       [1528.66443035],\n",
       "       [1126.86347078],\n",
       "       [ 408.55510307],\n",
       "       [ 137.04151351],\n",
       "       [ 177.95561754],\n",
       "       [1981.73063995],\n",
       "       [1858.92474969],\n",
       "       [ 884.9020768 ],\n",
       "       [ 808.78325591],\n",
       "       [ 696.28905027],\n",
       "       [  47.33425406],\n",
       "       [  85.43487403],\n",
       "       [2029.38275923],\n",
       "       [2906.32335179],\n",
       "       [2343.33747507],\n",
       "       [2636.60374987],\n",
       "       [2402.9658856 ],\n",
       "       [ 273.89383712],\n",
       "       [ 405.17345547],\n",
       "       [3247.20167751],\n",
       "       [2647.94785454],\n",
       "       [2591.99580636],\n",
       "       [2224.48931385],\n",
       "       [1829.8026756 ],\n",
       "       [ 397.44641987],\n",
       "       [ 614.9440922 ],\n",
       "       [7403.06517079],\n",
       "       [7806.70289551],\n",
       "       [6123.29712134],\n",
       "       [5946.73258363],\n",
       "       [3311.24392719],\n",
       "       [ 533.26173944],\n",
       "       [ 227.27187604],\n",
       "       [7448.2426208 ],\n",
       "       [4584.3500042 ],\n",
       "       [1217.9889627 ],\n",
       "       [ 970.07629231],\n",
       "       [ 543.84891362],\n",
       "       [  85.7270818 ],\n",
       "       [ 310.11808199],\n",
       "       [1373.08778192],\n",
       "       [ 947.97087567],\n",
       "       [1094.85873563],\n",
       "       [ 596.08992385],\n",
       "       [ 473.78675342],\n",
       "       [  61.39193012],\n",
       "       [  86.42195564],\n",
       "       [  46.5412986 ],\n",
       "       [  52.91862882],\n",
       "       [ 252.96425384],\n",
       "       [ 428.37484993],\n",
       "       [ 420.68820441],\n",
       "       [ 184.70728331],\n",
       "       [ 267.42022536],\n",
       "       [1345.66160589],\n",
       "       [1290.14584182],\n",
       "       [ 872.02375153],\n",
       "       [1245.92855696],\n",
       "       [ 741.76648229],\n",
       "       [ 180.50676357],\n",
       "       [ 242.53021696],\n",
       "       [2276.07154287],\n",
       "       [2591.36534325],\n",
       "       [1241.01558848],\n",
       "       [ 942.8721158 ],\n",
       "       [1177.77002246],\n",
       "       [  82.7535512 ],\n",
       "       [ 121.82629545],\n",
       "       [ 662.01667028],\n",
       "       [1964.1275477 ],\n",
       "       [2433.41515573],\n",
       "       [2445.81177646],\n",
       "       [5196.0031014 ],\n",
       "       [ 483.16697204],\n",
       "       [  56.77222682],\n",
       "       [8095.24341089],\n",
       "       [6541.34293685],\n",
       "       [2386.23917697],\n",
       "       [ 204.10349315],\n",
       "       [ 230.49577853],\n",
       "       [  71.99936547],\n",
       "       [  93.34949816],\n",
       "       [ 566.76132315],\n",
       "       [ 456.34426507]])"
      ]
     },
     "execution_count": 51,
     "metadata": {},
     "output_type": "execute_result"
    }
   ],
   "source": [
    "knn_best_estimator = knn_gscv_result.best_estimator_\n",
    "knn_best_estimator.fit(X_train, y_train)\n",
    "knn_y_pred = knn_best_estimator.predict(X_test)\n",
    "knn_y_pred"
   ]
  },
  {
   "cell_type": "markdown",
   "metadata": {
    "cell_id": "41f3a2a7-8b6b-4458-994f-0111775fad18",
    "tags": []
   },
   "source": [
    "### Random Forests"
   ]
  },
  {
   "cell_type": "markdown",
   "metadata": {
    "cell_id": "0bbce4f8-b42b-420d-9d81-b74136cebdaa",
    "tags": []
   },
   "source": [
    "**Criação do Pipeline**"
   ]
  },
  {
   "cell_type": "code",
   "execution_count": 52,
   "metadata": {
    "cell_id": "c22480d8-84cb-4264-b604-29d7d3a85a98",
    "tags": []
   },
   "outputs": [],
   "source": [
    "rfr_pipeline = Pipeline([('scaler', StandardScaler()),\n",
    "                         ('RFR', RandomForestRegressor(random_state=42))])"
   ]
  },
  {
   "cell_type": "markdown",
   "metadata": {
    "cell_id": "7b9511da-dee2-4247-af0b-286af64be39c",
    "tags": []
   },
   "source": [
    "**Ajuste de Hiperparâmetro**"
   ]
  },
  {
   "cell_type": "code",
   "execution_count": 58,
   "metadata": {
    "cell_id": "afdcf338-43ff-4793-a306-8d4338432a9a",
    "tags": []
   },
   "outputs": [],
   "source": [
    "rfr_rscv_hyperparameters = {'RFR__n_estimators': [100, 200, 400, 600, 800, 1000, 1200, 1400, 1600, 1800, 2000],\n",
    "                            'RFR__criterion': ['mse', 'mae'],\n",
    "                            'RFR__max_depth': [10, 20, 30, 40, 50, 60, 70, 80, 90, 100, None],\n",
    "                            'RFR__min_samples_split': [2, 5, 10],\n",
    "                            'RFR__min_samples_leaf': [1, 2, 4],\n",
    "                            'RFR__max_features': ['auto', 'sqrt', 'log2'],\n",
    "                            'RFR__max_leaf_nodes': [1, 5, 10, 20, 50, None],\n",
    "                            'RFR__bootstrap': [True, False],\n",
    "                            'RFR__warm_start': [True, False],\n",
    "                            'RFR__n_jobs': [-1]}\n",
    "\n",
    "rfr_rscv = RandomizedSearchCV(rfr_pipeline,\n",
    "                              n_iter=100,\n",
    "                              param_distributions=rfr_rscv_hyperparameters,\n",
    "                              cv=tscv,\n",
    "                              scoring='neg_root_mean_squared_error',\n",
    "                              n_jobs=-1)"
   ]
  },
  {
   "cell_type": "code",
   "execution_count": 59,
   "metadata": {
    "cell_id": "49e79272-0d87-4b2e-a96a-7deaf9e46bb4",
    "tags": []
   },
   "outputs": [
    {
     "name": "stdout",
     "output_type": "stream",
     "text": [
      "Best Score:  -825.4036080983566\n",
      "Best Parameters:\n",
      " {\n",
      "  \"RFR__warm_start\": true,\n",
      "  \"RFR__n_jobs\": -1,\n",
      "  \"RFR__n_estimators\": 1400,\n",
      "  \"RFR__min_samples_split\": 2,\n",
      "  \"RFR__min_samples_leaf\": 1,\n",
      "  \"RFR__max_leaf_nodes\": null,\n",
      "  \"RFR__max_features\": \"auto\",\n",
      "  \"RFR__max_depth\": 80,\n",
      "  \"RFR__criterion\": \"mse\",\n",
      "  \"RFR__bootstrap\": false\n",
      "}\n"
     ]
    }
   ],
   "source": [
    "rfr_rscv_result = rfr_rscv.fit(X_train, y_train.values.ravel())\n",
    "\n",
    "print(\"Best Score: \", rfr_rscv_result.best_score_)\n",
    "print(\"Best Parameters:\\n\", json.dumps(rfr_rscv_result.best_params_, indent=2))"
   ]
  },
  {
   "cell_type": "code",
   "execution_count": 60,
   "metadata": {},
   "outputs": [],
   "source": [
    "rfr_gscv_hyperparameters = {'RFR__n_estimators': [1200, 1300, 1500, 1600],\n",
    "                            'RFR__criterion': ['mse'],\n",
    "                            'RFR__max_depth': [70, 80, 90, None],\n",
    "                            'RFR__min_samples_split': [2, 5, 10],\n",
    "                            'RFR__min_samples_leaf': [1, 2, 4],\n",
    "                            'RFR__max_features': ['auto'],\n",
    "                            'RFR__max_leaf_nodes': [5, 10, 20, None],\n",
    "                            'RFR__bootstrap': [True, False],\n",
    "                            'RFR__warm_start': [True, False],\n",
    "                            'RFR__n_jobs': [-1]}\n",
    "\n",
    "rfr_gscv = GridSearchCV(rfr_pipeline,\n",
    "                        param_grid=rfr_gscv_hyperparameters,\n",
    "                        cv=tscv,\n",
    "                        scoring='neg_root_mean_squared_error',\n",
    "                        n_jobs=-1)"
   ]
  },
  {
   "cell_type": "code",
   "execution_count": null,
   "metadata": {},
   "outputs": [],
   "source": [
    "rfr_gscv_result = rfr_gscv.fit(X_train, y_train.values.ravel())\n",
    "\n",
    "print(\"Best Score: \", rfr_gscv_result.best_score_)\n",
    "print(\"Best Parameters:\\n\", json.dumps(rfr_gscv_result.best_params_, indent=2))"
   ]
  },
  {
   "cell_type": "code",
   "execution_count": null,
   "metadata": {},
   "outputs": [],
   "source": [
    "rfr_best_estimator = rfr_gscv_result.best_estimator_\n",
    "rfr_best_estimator.fit(X_train, y_train)\n",
    "rfr_y_pred = rfr_best_estimator.predict(X_test)\n",
    "rfr_y_pred"
   ]
  },
  {
   "cell_type": "markdown",
   "metadata": {
    "cell_id": "ac8b879f-00bd-4843-a0c3-fa8cd1985377",
    "tags": []
   },
   "source": [
    "### XGBoost"
   ]
  },
  {
   "cell_type": "markdown",
   "metadata": {},
   "source": [
    "**Criação do Pipeline**"
   ]
  },
  {
   "cell_type": "code",
   "execution_count": null,
   "metadata": {
    "cell_id": "d81c9506-a286-4ffa-b112-5f2795ad2414",
    "tags": []
   },
   "outputs": [],
   "source": [
    "xgb_pipeline = Pipeline([('scaler', StandardScaler()),\n",
    "                         ('XGB', XGBRegressor(seed=42))])"
   ]
  },
  {
   "cell_type": "markdown",
   "metadata": {
    "cell_id": "dac5a59c-0a79-4f2c-aacf-7ae4de9d4e67",
    "tags": []
   },
   "source": [
    "**Ajuste de Hiperparâmetro**"
   ]
  },
  {
   "cell_type": "code",
   "execution_count": null,
   "metadata": {},
   "outputs": [],
   "source": [
    "xgb_rscv_hyperparameters = {\n",
    "                            'XGB__n_jobs': [-1]}\n",
    "\n",
    "xgb_rscv = GridSearchCV(xgb_pipeline,\n",
    "                        n_iter=100,\n",
    "                        param_distributions=xgb_rscv_hyperparameters,\n",
    "                        cv=tscv,\n",
    "                        scoring='neg_root_mean_squared_error',\n",
    "                        n_jobs=-1)"
   ]
  },
  {
   "cell_type": "code",
   "execution_count": null,
   "metadata": {},
   "outputs": [],
   "source": [
    "xgb_rscv_result = knn_rscv.fit(X_train, y_train)\n",
    "\n",
    "print(\"Best Score: \", xgb_rscv_result.best_score_)\n",
    "print(\"Best Parameters:\\n\", json.dumps(xgb_rscv_result.best_params_, indent=2))"
   ]
  },
  {
   "cell_type": "code",
   "execution_count": null,
   "metadata": {},
   "outputs": [],
   "source": [
    "xgb_gscv_hyperparameters = {\n",
    "                            'XGB__n_jobs': [-1]}\n",
    "\n",
    "xgb_gscv = GridSearchCV(xgb_pipeline,\n",
    "                        param_grid=xgb_gscv_hyperparameters,\n",
    "                        cv=tscv,\n",
    "                        scoring='neg_root_mean_squared_error',\n",
    "                        n_jobs=-1)"
   ]
  },
  {
   "cell_type": "code",
   "execution_count": null,
   "metadata": {},
   "outputs": [],
   "source": [
    "xgb_gscv_result = knn_gscv.fit(X_train, y_train)\n",
    "\n",
    "print(\"Best Score: \", xgb_gscv_result.best_score_)\n",
    "print(\"Best Parameters:\\n\", json.dumps(xgb_gscv_result.best_params_, indent=2))"
   ]
  },
  {
   "cell_type": "code",
   "execution_count": null,
   "metadata": {},
   "outputs": [],
   "source": [
    "xgb_best_estimator = xgb_gscv_result.best_estimator_\n",
    "xgb_best_estimator.fit(X_train, y_train)\n",
    "xgb_y_pred = xgb_best_estimator.predict(X_test)\n",
    "xgb_y_pred"
   ]
  },
  {
   "cell_type": "markdown",
   "metadata": {
    "cell_id": "b246ae6c-73a0-4a53-be59-79f22cd12674",
    "tags": []
   },
   "source": [
    "## Análise Comparativa"
   ]
  },
  {
   "cell_type": "markdown",
   "metadata": {},
   "source": [
    "**kNN**"
   ]
  },
  {
   "cell_type": "code",
   "execution_count": null,
   "metadata": {},
   "outputs": [],
   "source": []
  },
  {
   "cell_type": "markdown",
   "metadata": {},
   "source": [
    "**Random Forests**"
   ]
  },
  {
   "cell_type": "code",
   "execution_count": null,
   "metadata": {},
   "outputs": [],
   "source": []
  },
  {
   "cell_type": "markdown",
   "metadata": {},
   "source": [
    "**XGBoost**"
   ]
  },
  {
   "cell_type": "code",
   "execution_count": null,
   "metadata": {},
   "outputs": [],
   "source": []
  },
  {
   "cell_type": "markdown",
   "metadata": {},
   "source": [
    "**Comparativo**"
   ]
  },
  {
   "cell_type": "code",
   "execution_count": null,
   "metadata": {},
   "outputs": [],
   "source": []
  }
 ],
 "metadata": {
  "deepnote_execution_queue": [
   {
    "cellId": "49e79272-0d87-4b2e-a96a-7deaf9e46bb4",
    "msgId": "eb7c720b-4244-4384-a8fc-340a2ee1cd6f",
    "sessionId": "72630253-87ab-4353-a73e-1870c33867df"
   },
   {
    "cellId": "305027bc-6178-46b2-81a6-29fca40a11a3",
    "msgId": "230136bc-ae27-4532-9b08-669cd1cfd581",
    "sessionId": "be943cbc-b4a4-4c78-8c11-ad1c13902f38"
   },
   {
    "cellId": "97680fd2-0914-42bf-aac7-eb7b1fd0f38e",
    "msgId": "2321d47c-8f55-4c04-afb9-05e29b0e9cc7",
    "sessionId": "72630253-87ab-4353-a73e-1870c33867df"
   },
   {
    "cellId": "69123db8-4790-4dce-bbd6-24aefbdf014f",
    "msgId": "e3cb02d9-65b4-401d-8610-c99bd8a36cf8",
    "sessionId": "be943cbc-b4a4-4c78-8c11-ad1c13902f38"
   },
   {
    "cellId": "afdcf338-43ff-4793-a306-8d4338432a9a",
    "msgId": "056ef514-9a7e-4f41-aaac-b288a0e25285",
    "sessionId": "72630253-87ab-4353-a73e-1870c33867df"
   }
  ],
  "deepnote_notebook_id": "194ddf1d-6316-44ca-a394-eb2a63e93845",
  "kernelspec": {
   "display_name": "Python 3",
   "language": "python",
   "name": "python3"
  },
  "language_info": {
   "codemirror_mode": {
    "name": "ipython",
    "version": 3
   },
   "file_extension": ".py",
   "mimetype": "text/x-python",
   "name": "python",
   "nbconvert_exporter": "python",
   "pygments_lexer": "ipython3",
   "version": "3.7.6"
  }
 },
 "nbformat": 4,
 "nbformat_minor": 2
}
